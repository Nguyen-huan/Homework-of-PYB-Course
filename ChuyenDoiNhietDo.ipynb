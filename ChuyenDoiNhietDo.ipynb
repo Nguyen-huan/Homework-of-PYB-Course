{
 "cells": [
  {
   "cell_type": "code",
   "execution_count": 3,
   "id": "3f0bfcbc",
   "metadata": {},
   "outputs": [
    {
     "name": "stdout",
     "output_type": "stream",
     "text": [
      "Nhập độ C: 30\n",
      "30 độ C = 86.0 độ F\n"
     ]
    }
   ],
   "source": [
    "C = int(input(\"Nhập độ C: \"))\n",
    "F = (C * 1.8 ) +  32\n",
    "print(f\"{C} độ C = {F} độ F\")"
   ]
  },
  {
   "cell_type": "code",
   "execution_count": null,
   "id": "1bcde860",
   "metadata": {},
   "outputs": [],
   "source": []
  }
 ],
 "metadata": {
  "kernelspec": {
   "display_name": "Python 3 (ipykernel)",
   "language": "python",
   "name": "python3"
  },
  "language_info": {
   "codemirror_mode": {
    "name": "ipython",
    "version": 3
   },
   "file_extension": ".py",
   "mimetype": "text/x-python",
   "name": "python",
   "nbconvert_exporter": "python",
   "pygments_lexer": "ipython3",
   "version": "3.9.13"
  }
 },
 "nbformat": 4,
 "nbformat_minor": 5
}
